{
 "cells": [
  {
   "cell_type": "markdown",
   "id": "dd4029f8",
   "metadata": {},
   "source": [
    "Here we build the phone book program"
   ]
  },
  {
   "cell_type": "code",
   "execution_count": null,
   "id": "4a0cd2a2",
   "metadata": {},
   "outputs": [],
   "source": [
    " phone_book = {\n",
    "    'Amal': '1111111111',\n",
    "    'Mohammed': '2222222222',\n",
    "    'Khadijah': '3333333333',\n",
    "    'Abdullah': '4444444444',\n",
    "    'Rawan': '5555555555',\n",
    "    'Faisal': '6666666666',\n",
    "    'Layla': '7777777777'\n",
    "}\n",
    "\n",
    "def findName(pNum):\n",
    "    if len(pNum) != 10:\n",
    "        return \"This is an invalid number\"\n",
    "\n",
    "    if not pNum.isdigit():\n",
    "        return \"This is an invalid number\"\n",
    "\n",
    "    for name, number in phone_book.items():\n",
    "        if number == pNum:\n",
    "            return name\n",
    "\n",
    "    return \"Sorry, the number is not found\"\n",
    "\n",
    "num = input(\"Enter the phone number: \")\n",
    "owner = findName(num)\n",
    "print(owner)\n"
   ]
  }
 ],
 "metadata": {
  "kernelspec": {
   "display_name": "Python 3 (ipykernel)",
   "language": "python",
   "name": "python3"
  },
  "language_info": {
   "codemirror_mode": {
    "name": "ipython",
    "version": 3
   },
   "file_extension": ".py",
   "mimetype": "text/x-python",
   "name": "python",
   "nbconvert_exporter": "python",
   "pygments_lexer": "ipython3",
   "version": "3.9.13"
  }
 },
 "nbformat": 4,
 "nbformat_minor": 5
}
